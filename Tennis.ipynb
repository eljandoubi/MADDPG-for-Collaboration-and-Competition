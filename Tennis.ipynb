{
 "cells": [
  {
   "cell_type": "markdown",
   "metadata": {},
   "source": [
    "# Collaboration and Competition\n",
    "\n",
    "---\n",
    "\n",
    "This notebook is based on the notebook of the coding exercice [DDPG-pendulum](https://github.com/udacity/deep-reinforcement-learning/tree/master/ddpg-pendulum) of the [Deep Reinforcement Learning Nanodegree](https://www.udacity.com/course/deep-reinforcement-learning-nanodegree--nd893) program.\n",
    "\n",
    "\n",
    "Here, we will train a MADDPG multi-agent for **Tennis** environment.\n",
    "\n",
    "\n",
    "### 1. Import the Necessary Packages\n",
    "\n",
    "We begin by importing the necessary packages."
   ]
  },
  {
   "cell_type": "code",
   "execution_count": 1,
   "metadata": {},
   "outputs": [],
   "source": [
    "from unityagents import UnityEnvironment\n",
    "import torch\n",
    "import numpy as np\n",
    "from collections import deque\n",
    "import matplotlib.pyplot as plt\n",
    "%matplotlib inline\n",
    "\n",
    "from maddpg_agent import MADDPG"
   ]
  },
  {
   "cell_type": "markdown",
   "metadata": {},
   "source": [
    "Next, we will start the environment!  **_Before running the code cell below_**, change the `file_name` parameter to match the location of the Unity environment that you downloaded.\n",
    "\n",
    "- **Mac**: `\"path/to/Tennis.app\"`\n",
    "- **Windows** (x86): `\"path/to/Tennis_Windows_x86/Tennis.exe\"`\n",
    "- **Windows** (x86_64): `\"path/to/Tennis_Windows_x86_64/Tennis.exe\"`\n",
    "- **Linux** (x86): `\"path/to/Tennis_Linux/Tennis.x86\"`\n",
    "- **Linux** (x86_64): `\"path/to/Tennis_Linux/Tennis.x86_64\"`\n",
    "- **Linux** (x86, headless): `\"path/to/Tennis_Linux_NoVis/Tennis.x86\"`\n",
    "- **Linux** (x86_64, headless): `\"path/to/Tennis_Linux_NoVis/Tennis.x86_64\"`\n",
    "\n",
    "For instance, if you are using a Mac, then you downloaded `Tennis.app`.  If this file is in the same folder as the notebook, then the line below should appear as follows:\n",
    "```\n",
    "env = UnityEnvironment(file_name=\"Tennis.app\")\n",
    "```"
   ]
  },
  {
   "cell_type": "code",
   "execution_count": 2,
   "metadata": {},
   "outputs": [
    {
     "name": "stderr",
     "output_type": "stream",
     "text": [
      "INFO:unityagents:\n",
      "'Academy' started successfully!\n",
      "Unity Academy name: Academy\n",
      "        Number of Brains: 1\n",
      "        Number of External Brains : 1\n",
      "        Lesson number : 0\n",
      "        Reset Parameters :\n",
      "\t\t\n",
      "Unity brain name: TennisBrain\n",
      "        Number of Visual Observations (per agent): 0\n",
      "        Vector Observation space type: continuous\n",
      "        Vector Observation space size (per agent): 8\n",
      "        Number of stacked Vector Observation: 3\n",
      "        Vector Action space type: continuous\n",
      "        Vector Action space size (per agent): 2\n",
      "        Vector Action descriptions: , \n"
     ]
    }
   ],
   "source": [
    "env = UnityEnvironment(file_name=\"Tennis_Windows_x86_64/Tennis.exe\")"
   ]
  },
  {
   "cell_type": "markdown",
   "metadata": {},
   "source": [
    "Environments contain **_brains_** which are responsible for deciding the actions of their associated agents. Here we check for the first brain available, and set it as the default brain we will be controlling from Python."
   ]
  },
  {
   "cell_type": "code",
   "execution_count": 3,
   "metadata": {},
   "outputs": [],
   "source": [
    "# get the default brain\n",
    "brain_name = env.brain_names[0]\n",
    "brain = env.brains[brain_name]"
   ]
  },
  {
   "cell_type": "markdown",
   "metadata": {},
   "source": [
    "### 2. Examine the State and Action Spaces\n",
    "\n",
    "In this environment, two agents control rackets to bounce a ball over a net. If an agent hits the ball over the net, it receives a reward of +0.1.  If an agent lets a ball hit the ground or hits the ball out of bounds, it receives a reward of -0.01.  Thus, the goal of each agent is to keep the ball in play.\n",
    "\n",
    "The observation space consists of 8 variables corresponding to the position and velocity of the ball and racket. Two continuous actions are available, corresponding to movement toward (or away from) the net, and jumping. \n",
    "\n",
    "Run the code cell below to print some information about the environment."
   ]
  },
  {
   "cell_type": "code",
   "execution_count": 4,
   "metadata": {},
   "outputs": [
    {
     "name": "stdout",
     "output_type": "stream",
     "text": [
      "Number of agents: 2\n",
      "Size of each action: 2\n",
      "There are 2 agents. Each observes a state with length: 24\n",
      "The state for the first agent looks like: [ 0.          0.          0.          0.          0.          0.\n",
      "  0.          0.          0.          0.          0.          0.\n",
      "  0.          0.          0.          0.         -6.65278625 -1.5\n",
      " -0.          0.          6.83172083  6.         -0.          0.        ]\n"
     ]
    }
   ],
   "source": [
    "# reset the environment\n",
    "env_info = env.reset(train_mode=True)[brain_name]\n",
    "\n",
    "# number of agents \n",
    "num_agents = len(env_info.agents)\n",
    "print('Number of agents:', num_agents)\n",
    "\n",
    "# size of each action\n",
    "action_size = brain.vector_action_space_size\n",
    "print('Size of each action:', action_size)\n",
    "\n",
    "# examine the state space \n",
    "states = env_info.vector_observations\n",
    "state_size = states.shape[1]\n",
    "print('There are {} agents. Each observes a state with length: {}'.format(states.shape[0], state_size))\n",
    "print('The state for the first agent looks like:', states[0])"
   ]
  },
  {
   "cell_type": "code",
   "execution_count": 5,
   "metadata": {},
   "outputs": [],
   "source": [
    "# Initialise the agents\n",
    "agents=MADDPG(state_size,action_size,num_agents,random_seed=1,path=\"Tennis_checkpoint\")"
   ]
  },
  {
   "cell_type": "markdown",
   "metadata": {},
   "source": [
    "### 3. Train the Agents with MADDPG\n",
    "\n",
    "Run the code cell below to train the agents from scratch.  Alternatively, you can skip to the next code cell to load the pre-trained weights from file."
   ]
  },
  {
   "cell_type": "code",
   "execution_count": 6,
   "metadata": {},
   "outputs": [],
   "source": [
    "def trainer(n_episodes=4000, max_t=1000):\n",
    "    np.set_printoptions(formatter={'float': '{: 0.4f}'.format})\n",
    "    scores_deque = deque(maxlen=100)\n",
    "    scores = []\n",
    "    max_score = -np.Inf*np.ones(num_agents)\n",
    "    for i_episode in range(1, n_episodes+1):\n",
    "        env_info = env.reset(train_mode=True)[brain_name]                # reset the environment    \n",
    "        states = list(env_info.vector_observations)                  # get the current state\n",
    "        agents.reset()\n",
    "        agents_score = np.zeros(num_agents)\n",
    "        for t in range(max_t):\n",
    "           \n",
    "            actions = agents.act(states,True)\n",
    "            env_info = env.step(np.vstack(actions))[brain_name]      # send all actions to tne environment\n",
    "            next_states = list(env_info.vector_observations)                             # get next state (for each agent)\n",
    "            rewards = list(env_info.rewards)                                             # get reward (for each agent)\n",
    "            dones = list(env_info.local_done)                                            # see if episode finished\n",
    "            \n",
    "            agents.step(states, actions, rewards, next_states, dones, t)\n",
    "                \n",
    "            states = next_states.copy()\n",
    "            agents_score += rewards                       # update the score (for each agent)\n",
    "            if np.any(dones):\n",
    "                break \n",
    "                \n",
    "        scores_deque.append(agents_score)\n",
    "        scores.append(agents_score)\n",
    "        mean=np.mean(scores_deque,axis=0)\n",
    "        \n",
    "        \n",
    "        print('\\rEpisode {}\\tAverage Scores: {} \\tScores: {}'.format(i_episode, mean , agents_score), end=\"\")\n",
    "        if i_episode % 100 == 0:\n",
    "            print('\\rEpisode {}\\tAverage Scores: {}'.format(i_episode, mean))\n",
    "        \n",
    "        idx=np.where(mean>=max_score)[0]\n",
    "        max_score[idx]=mean[idx]\n",
    "        agents.save(idx)\n",
    "        \n",
    "        if (max_score>.5).all():\n",
    "            print(\"\\n Solved in\",i_episode,\"episode\")\n",
    "            break\n",
    "            \n",
    "    return np.array(scores)"
   ]
  },
  {
   "cell_type": "code",
   "execution_count": 7,
   "metadata": {},
   "outputs": [
    {
     "name": "stdout",
     "output_type": "stream",
     "text": [
      "Episode 100\tAverage Scores: [-0.0016 -0.0045] \tScores: [-0.0100  0.0000]\n",
      "Episode 200\tAverage Scores: [-0.0048 -0.0052] \tScores: [ 0.0000 -0.0100]\n",
      "Episode 300\tAverage Scores: [-0.0048 -0.0052] \tScores: [-0.0100  0.0000]\n",
      "Episode 400\tAverage Scores: [-0.0051 -0.0049] \tScores: [ 0.0000 -0.0100]\n",
      "Episode 500\tAverage Scores: [-0.0035  0.0015] \tScores: [-0.0100  0.0000]\n",
      "Episode 600\tAverage Scores: [-0.0039 -0.0051] \tScores: [ 0.0000 -0.0100]\n",
      "Episode 700\tAverage Scores: [-0.0047 -0.0053] \tScores: [ 0.0000 -0.0100]\n",
      "Episode 800\tAverage Scores: [-0.0042 -0.0048] \tScores: [ 0.1000 -0.0100]\n",
      "Episode 900\tAverage Scores: [ 0.0060  0.0000] \tScores: [ 0.0000 -0.0100]\n",
      "Episode 1000\tAverage Scores: [ 0.0058  0.0012] \tScores: [-0.0100  0.0000]\n",
      "Episode 1100\tAverage Scores: [ 0.0190  0.0160] \tScores: [ 0.0000  0.0900]\n",
      "Episode 1200\tAverage Scores: [ 0.0334  0.0236] \tScores: [ 0.0000 -0.0100]\n",
      "Episode 1300\tAverage Scores: [ 0.0362  0.0328] \tScores: [ 0.1000 -0.0100]\n",
      "Episode 1400\tAverage Scores: [ 0.0432  0.0378] \tScores: [-0.0100  0.1000]\n",
      "Episode 1500\tAverage Scores: [ 0.0778  0.0680] \tScores: [ 0.0000  0.0900]\n",
      "Episode 1600\tAverage Scores: [ 0.1817  0.1813] \tScores: [ 0.7000  0.6900]\n",
      "Episode 1700\tAverage Scores: [ 0.1865  0.1755] \tScores: [ 0.3000  0.2900]\n",
      "Episode 1800\tAverage Scores: [ 0.2103  0.2196] \tScores: [ 0.0000  0.0900]\n",
      "Episode 1900\tAverage Scores: [ 0.4197  0.4335] \tScores: [ 0.7000  0.5900]\n",
      "Episode 2000\tAverage Scores: [ 0.4585  0.4624] \tScores: [ 0.1900  0.3000]\n",
      "Episode 2063\tAverage Scores: [ 0.5000  0.5151] \tScores: [ 0.7900  0.9000]\n",
      " solved in 2063 episode\n"
     ]
    }
   ],
   "source": [
    "scores=trainer()"
   ]
  },
  {
   "cell_type": "code",
   "execution_count": 8,
   "metadata": {},
   "outputs": [
    {
     "data": {
      "image/png": "[encoded data removed]",
      "text/plain": [
       "<Figure size 640x480 with 1 Axes>"
      ]
     },
     "metadata": {},
     "output_type": "display_data"
    }
   ],
   "source": [
    "fig = plt.figure()\n",
    "ax = fig.add_subplot(111)\n",
    "itr=np.arange(1, len(scores)+1)\n",
    "for i in range(num_agents):\n",
    "    plt.plot(itr, scores[:,i],label=\"agent %i\" %i)\n",
    "    \n",
    "ax.legend()    \n",
    "plt.ylabel('Score')\n",
    "plt.xlabel('Episode #')\n",
    "plt.show()"
   ]
  },
  {
   "cell_type": "markdown",
   "metadata": {},
   "source": [
    "### 4. Watch the Smart Agent!\n",
    "\n",
    "In the next code cell, we will load the trained weights and test the model."
   ]
  },
  {
   "cell_type": "code",
   "execution_count": 11,
   "metadata": {},
   "outputs": [
    {
     "name": "stdout",
     "output_type": "stream",
     "text": [
      "Score from episode 1: [ 2.6000  2.7000]\n",
      "Score from episode 2: [ 0.2000  0.1900]\n",
      "Score from episode 3: [ 2.6000  2.6000]\n",
      "Score from episode 4: [ 2.7000  2.6000]\n",
      "Score from episode 5: [ 2.6000  2.7000]\n"
     ]
    }
   ],
   "source": [
    "agents.load()\n",
    "np.set_printoptions(formatter={'float': '{: 0.4f}'.format})\n",
    "for i in range(1, 6):                                      # play game for 5 episodes\n",
    "    env_info = env.reset(train_mode=False)[brain_name]     # reset the environment    \n",
    "    states = env_info.vector_observations                  # get the current state (for each agent)\n",
    "    scores = np.zeros(num_agents)                          # initialize the score (for each agent)\n",
    "    while True:\n",
    "        actions = agents.act(states,False)\n",
    "        env_info = env.step(actions)[brain_name]           # send all actions to tne environment\n",
    "        next_states = env_info.vector_observations         # get next state (for each agent)\n",
    "        rewards = env_info.rewards                         # get reward (for each agent)\n",
    "        dones = env_info.local_done                        # see if episode finished\n",
    "        scores += env_info.rewards                         # update the score (for each agent)\n",
    "        states = next_states                               # roll over states to next time step\n",
    "        if np.any(dones):                                  # exit loop if episode finished\n",
    "            break\n",
    "    print('Score from episode {}: {}'.format(i, scores))"
   ]
  },
  {
   "cell_type": "markdown",
   "metadata": {},
   "source": [
    "When finished, you can close the environment."
   ]
  },
  {
   "cell_type": "code",
   "execution_count": 12,
   "metadata": {},
   "outputs": [],
   "source": [
    "env.close()"
   ]
  }
 ],
 "metadata": {
  "kernelspec": {
   "display_name": "drlnd",
   "language": "python",
   "name": "drlnd"
  },
  "language_info": {
   "codemirror_mode": {
    "name": "ipython",
    "version": 3
   },
   "file_extension": ".py",
   "mimetype": "text/x-python",
   "name": "python",
   "nbconvert_exporter": "python",
   "pygments_lexer": "ipython3",
   "version": "3.10.4"
  }
 },
 "nbformat": 4,
 "nbformat_minor": 2
}
